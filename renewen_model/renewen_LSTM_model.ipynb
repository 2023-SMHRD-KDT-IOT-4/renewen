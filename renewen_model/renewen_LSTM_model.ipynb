{
 "cells": [
  {
   "cell_type": "code",
   "execution_count": 15,
   "id": "ce89ecdb",
   "metadata": {},
   "outputs": [],
   "source": [
    "#!pip install pandas numpy scikit-learn torch tqdm\n",
    "#!pip install torchsummary\n",
    "#GPU를 사용하여 학습시킬 경우 (필수X)\n",
    "#!pip install torch==<12.3> torchvision torchaudio -f https://download.pytorch.org/whl/cu<12.3>/torch_stable.html"
   ]
  },
  {
   "cell_type": "code",
   "execution_count": 16,
   "id": "4411d52b",
   "metadata": {
    "scrolled": false
   },
   "outputs": [],
   "source": [
    "import pandas as pd\n",
    "import numpy as np\n",
    "import random\n",
    "import os\n",
    "\n",
    "from sklearn.preprocessing import MinMaxScaler\n",
    "from sklearn.preprocessing import LabelEncoder\n",
    "\n",
    "import torch\n",
    "import torch.nn as nn\n",
    "from torch.utils.data import Dataset, DataLoader \n",
    "from torchsummary import summary\n",
    "\n",
    "from tqdm.auto import tqdm\n",
    "\n",
    "import seaborn as sns\n",
    "import matplotlib.pyplot as plt"
   ]
  },
  {
   "cell_type": "code",
   "execution_count": 17,
   "id": "22aa4a3c",
   "metadata": {},
   "outputs": [],
   "source": [
    "def seed_everything(seed):\n",
    "    random.seed(seed)\n",
    "    os.environ['PYTHONHASHSEED'] = str(seed)\n",
    "    np.random.seed(seed)\n",
    "    torch.manual_seed(seed)\n",
    "    torch.cuda.manual_seed(seed)\n",
    "    torch.backends.cudnn.deterministic = True\n",
    "    torch.backends.cudnn.benchmark = True\n",
    "\n",
    "seed_everything(42)"
   ]
  },
  {
   "cell_type": "code",
   "execution_count": 18,
   "id": "db1eb4bf",
   "metadata": {},
   "outputs": [],
   "source": [
    "# Data Load\n",
    "new_data = pd.read_csv('./train_sun.csv')"
   ]
  },
  {
   "cell_type": "code",
   "execution_count": 19,
   "id": "c33868ca",
   "metadata": {},
   "outputs": [
    {
     "data": {
      "text/html": [
       "<div>\n",
       "<style scoped>\n",
       "    .dataframe tbody tr th:only-of-type {\n",
       "        vertical-align: middle;\n",
       "    }\n",
       "\n",
       "    .dataframe tbody tr th {\n",
       "        vertical-align: top;\n",
       "    }\n",
       "\n",
       "    .dataframe thead th {\n",
       "        text-align: right;\n",
       "    }\n",
       "</style>\n",
       "<table border=\"1\" class=\"dataframe\">\n",
       "  <thead>\n",
       "    <tr style=\"text-align: right;\">\n",
       "      <th></th>\n",
       "      <th>date</th>\n",
       "      <th>TA</th>\n",
       "      <th>WS</th>\n",
       "      <th>WA</th>\n",
       "      <th>HM</th>\n",
       "      <th>PA</th>\n",
       "      <th>SI</th>\n",
       "      <th>CA</th>\n",
       "      <th>PM10</th>\n",
       "      <th>plant_volume</th>\n",
       "      <th>wattage</th>\n",
       "    </tr>\n",
       "  </thead>\n",
       "  <tbody>\n",
       "    <tr>\n",
       "      <th>0</th>\n",
       "      <td>20190101 00</td>\n",
       "      <td>-0.7</td>\n",
       "      <td>1.2</td>\n",
       "      <td>20.0</td>\n",
       "      <td>46.0</td>\n",
       "      <td>1026.1</td>\n",
       "      <td>0.0</td>\n",
       "      <td>9.0</td>\n",
       "      <td>8.0</td>\n",
       "      <td>2636.54</td>\n",
       "      <td>8.935440</td>\n",
       "    </tr>\n",
       "    <tr>\n",
       "      <th>1</th>\n",
       "      <td>20190101 01</td>\n",
       "      <td>-1.5</td>\n",
       "      <td>1.3</td>\n",
       "      <td>320.0</td>\n",
       "      <td>53.0</td>\n",
       "      <td>1026.2</td>\n",
       "      <td>0.0</td>\n",
       "      <td>0.0</td>\n",
       "      <td>12.0</td>\n",
       "      <td>2636.54</td>\n",
       "      <td>5.475148</td>\n",
       "    </tr>\n",
       "    <tr>\n",
       "      <th>2</th>\n",
       "      <td>20190101 02</td>\n",
       "      <td>-1.8</td>\n",
       "      <td>1.0</td>\n",
       "      <td>20.0</td>\n",
       "      <td>55.0</td>\n",
       "      <td>1026.2</td>\n",
       "      <td>0.0</td>\n",
       "      <td>0.0</td>\n",
       "      <td>23.0</td>\n",
       "      <td>2636.54</td>\n",
       "      <td>0.518472</td>\n",
       "    </tr>\n",
       "    <tr>\n",
       "      <th>3</th>\n",
       "      <td>20190101 03</td>\n",
       "      <td>-2.0</td>\n",
       "      <td>0.2</td>\n",
       "      <td>0.0</td>\n",
       "      <td>55.0</td>\n",
       "      <td>1026.3</td>\n",
       "      <td>0.0</td>\n",
       "      <td>7.0</td>\n",
       "      <td>19.0</td>\n",
       "      <td>2636.54</td>\n",
       "      <td>0.180008</td>\n",
       "    </tr>\n",
       "    <tr>\n",
       "      <th>4</th>\n",
       "      <td>20190101 04</td>\n",
       "      <td>-1.5</td>\n",
       "      <td>0.4</td>\n",
       "      <td>0.0</td>\n",
       "      <td>54.0</td>\n",
       "      <td>1026.1</td>\n",
       "      <td>0.0</td>\n",
       "      <td>9.0</td>\n",
       "      <td>20.0</td>\n",
       "      <td>2636.54</td>\n",
       "      <td>0.055592</td>\n",
       "    </tr>\n",
       "  </tbody>\n",
       "</table>\n",
       "</div>"
      ],
      "text/plain": [
       "          date   TA   WS     WA    HM      PA   SI   CA  PM10  plant_volume  \\\n",
       "0  20190101 00 -0.7  1.2   20.0  46.0  1026.1  0.0  9.0   8.0       2636.54   \n",
       "1  20190101 01 -1.5  1.3  320.0  53.0  1026.2  0.0  0.0  12.0       2636.54   \n",
       "2  20190101 02 -1.8  1.0   20.0  55.0  1026.2  0.0  0.0  23.0       2636.54   \n",
       "3  20190101 03 -2.0  0.2    0.0  55.0  1026.3  0.0  7.0  19.0       2636.54   \n",
       "4  20190101 04 -1.5  0.4    0.0  54.0  1026.1  0.0  9.0  20.0       2636.54   \n",
       "\n",
       "    wattage  \n",
       "0  8.935440  \n",
       "1  5.475148  \n",
       "2  0.518472  \n",
       "3  0.180008  \n",
       "4  0.055592  "
      ]
     },
     "execution_count": 19,
     "metadata": {},
     "output_type": "execute_result"
    }
   ],
   "source": [
    "new_data.head()"
   ]
  },
  {
   "cell_type": "code",
   "execution_count": 20,
   "id": "f18070a8",
   "metadata": {},
   "outputs": [],
   "source": [
    "# Feature 및 Target 선택\n",
    "features = ['TA', 'WS', 'WA', 'HM', 'PA', 'SI', 'CA', 'PM10', 'plant_volume']\n",
    "target = 'wattage'\n",
    "\n",
    "# Data Pre-processing\n",
    "new_data['date'] = pd.to_datetime(new_data['date'])\n",
    "new_data.set_index('date', inplace=True)"
   ]
  },
  {
   "cell_type": "code",
   "execution_count": 21,
   "id": "87b651ff",
   "metadata": {},
   "outputs": [],
   "source": [
    "# Hyperparameter Setting\n",
    "input_size = len(features) #9\n",
    "hidden_size = 64\n",
    "num_layers = 2\n",
    "output_size = 1\n",
    "num_epochs = 4\n",
    "window_size = 48\n",
    "batch_size = 64\n",
    "learning_rate = 0.001"
   ]
  },
  {
   "cell_type": "code",
   "execution_count": 22,
   "id": "0f03abfb",
   "metadata": {},
   "outputs": [],
   "source": [
    "# Dataset & DataLoader\n",
    "scaler = MinMaxScaler()\n",
    "new_data_scaled = scaler.fit_transform(new_data)\n",
    "\n",
    "class TimeSeriesDataset(Dataset):\n",
    "    def __init__(self, df, window_size):\n",
    "        self.df = df\n",
    "        self.window_size = window_size\n",
    "\n",
    "    def __len__(self):\n",
    "        return len(self.df) - self.window_size\n",
    "\n",
    "    def __getitem__(self, idx):\n",
    "        x = torch.tensor(self.df[idx:idx+self.window_size, :-1], dtype=torch.float)\n",
    "        y = torch.tensor(self.df[idx+self.window_size, -1], dtype=torch.float)\n",
    "        return x, y\n",
    "\n",
    "def create_data_loader(df, window_size, batch_size):\n",
    "    dataset = TimeSeriesDataset(df, window_size)\n",
    "    data_loader = DataLoader(dataset, batch_size=batch_size, shuffle=False)\n",
    "    return data_loader\n",
    "\n",
    "new_data_loader = create_data_loader(new_data_scaled, window_size, batch_size)"
   ]
  },
  {
   "cell_type": "code",
   "execution_count": 23,
   "id": "6faefe90",
   "metadata": {},
   "outputs": [],
   "source": [
    "class LSTM(nn.Module):\n",
    "    def __init__(self, input_size, hidden_size, num_layers, output_size):\n",
    "        super(LSTM, self).__init__()\n",
    "\n",
    "        self.hidden_size = hidden_size\n",
    "        self.num_layers = num_layers\n",
    "\n",
    "        self.lstm = nn.LSTM(input_size, hidden_size, num_layers, batch_first=True)\n",
    "        self.fc = nn.Linear(hidden_size, output_size)\n",
    "\n",
    "    def forward(self, x):\n",
    "        # x의 shape를 (batch_size, sequence_length, input_size)로 조정\n",
    "        x = x.view(x.size(0), -1, x.size(-1))\n",
    "        h0 = torch.zeros(self.num_layers, x.size(0), self.hidden_size).to(x.device)\n",
    "        c0 = torch.zeros(self.num_layers, x.size(0), self.hidden_size).to(x.device)\n",
    "\n",
    "        out, _ = self.lstm(x, (h0, c0))\n",
    "        out = self.fc(out[:, -1, :])\n",
    "\n",
    "        return out"
   ]
  },
  {
   "cell_type": "code",
   "execution_count": 24,
   "id": "593b2c07",
   "metadata": {},
   "outputs": [
    {
     "name": "stdout",
     "output_type": "stream",
     "text": [
      "current device: cpu\n"
     ]
    }
   ],
   "source": [
    "device = torch.device('cuda' if torch.cuda.is_available() else 'cpu')\n",
    "print(f\"current device: {device}\")\n",
    "\n",
    "model = LSTM(input_size, hidden_size, num_layers, output_size).to(device)\n",
    "\n",
    "criterion = nn.MSELoss()\n",
    "optimizer = torch.optim.Adam(model.parameters(), lr=learning_rate)"
   ]
  },
  {
   "cell_type": "code",
   "execution_count": 25,
   "id": "23a8edba",
   "metadata": {},
   "outputs": [
    {
     "name": "stdout",
     "output_type": "stream",
     "text": [
      "current device: cpu\n",
      "Epoch [1/10], Step [300/548], Loss: 0.0078756362\n",
      "Epoch [2/10], Step [300/548], Loss: 0.0040824418\n",
      "Epoch [3/10], Step [300/548], Loss: 0.0035921382\n",
      "Epoch [4/10], Step [300/548], Loss: 0.0037460134\n",
      "Epoch [5/10], Step [300/548], Loss: 0.0038389687\n",
      "Epoch [6/10], Step [300/548], Loss: 0.0037864386\n",
      "Epoch [7/10], Step [300/548], Loss: 0.0038980665\n",
      "Epoch [8/10], Step [300/548], Loss: 0.0041963318\n",
      "Epoch [9/10], Step [300/548], Loss: 0.0048571788\n",
      "Epoch [10/10], Step [300/548], Loss: 0.0047805575\n"
     ]
    }
   ],
   "source": [
    "# Train\n",
    "\n",
    "# Lists to store loss values\n",
    "train_losses = []\n",
    "\n",
    "device = torch.device('cuda' if torch.cuda.is_available() else 'cpu')\n",
    "print(f\"current device: {device}\")\n",
    "\n",
    "model = LSTM(input_size, hidden_size, num_layers, output_size).to(device)\n",
    "criterion = nn.MSELoss()\n",
    "optimizer = torch.optim.Adam(model.parameters(), lr=learning_rate)\n",
    "\n",
    "for epoch in range(num_epochs):\n",
    "    for i, (inputs, labels) in enumerate(new_data_loader):\n",
    "        inputs = inputs.to(device)\n",
    "        labels = labels.unsqueeze(1).to(device)\n",
    "\n",
    "        # Forward\n",
    "        outputs = model(inputs)\n",
    "        loss = criterion(outputs, labels)\n",
    "\n",
    "        # Backward and optimize\n",
    "        optimizer.zero_grad()\n",
    "        loss.backward()\n",
    "        optimizer.step()\n",
    "\n",
    "        if (i+1) % 300 == 0:\n",
    "            print ('Epoch [{}/{}], Step [{}/{}], Loss: {:.10f}' \n",
    "                   .format(epoch+1, num_epochs, i+1, len(new_data_loader), loss.item()))"
   ]
  },
  {
   "cell_type": "code",
   "execution_count": 26,
   "id": "6d4995fc",
   "metadata": {},
   "outputs": [],
   "source": [
    "# Inference\n",
    "model.eval()\n",
    "\n",
    "test_predictions = []\n",
    "\n",
    "with torch.no_grad():\n",
    "    for i in range(len(new_data_scaled) - window_size):\n",
    "        x = torch.Tensor(new_data_scaled[i:i+window_size, :-1]).to(device)\n",
    "        new_x = model(x.view(1, window_size, -1))\n",
    "        \n",
    "        new_data_scaled[i+window_size, -1] = new_x.item()\n",
    "        test_predictions.append(new_x.detach().cpu().numpy().item())"
   ]
  },
  {
   "cell_type": "code",
   "execution_count": 27,
   "id": "03c8b31f",
   "metadata": {},
   "outputs": [],
   "source": [
    "#모델 저장\n",
    "torch.save(model.state_dict(), 'model_new.pth')"
   ]
  },
  {
   "cell_type": "code",
   "execution_count": 28,
   "id": "5fdf48be",
   "metadata": {
    "scrolled": false
   },
   "outputs": [
    {
     "data": {
      "text/plain": [
       "LSTM(\n",
       "  (lstm): LSTM(9, 64, num_layers=2, batch_first=True)\n",
       "  (lstm1): LSTM(9, 32, num_layers=2, batch_first=True)\n",
       "  (lstm2): LSTM(9, 16, num_layers=2, batch_first=True)\n",
       "  (lstm3): LSTM(9, 1, num_layers=2, batch_first=True)\n",
       "  (fc): Linear(in_features=64, out_features=1, bias=True)\n",
       ")"
      ]
     },
     "execution_count": 28,
     "metadata": {},
     "output_type": "execute_result"
    }
   ],
   "source": [
    "# 모델 불러오기\n",
    "loaded_model = LSTM(input_size, hidden_size, num_layers, output_size).to(device)\n",
    "loaded_model.load_state_dict(torch.load('model_new.pth'))\n",
    "loaded_model.eval()"
   ]
  },
  {
   "cell_type": "code",
   "execution_count": 1,
   "id": "0380549f",
   "metadata": {
    "scrolled": true
   },
   "outputs": [],
   "source": [
    "#summary(loaded_model, input_size=(window_size, input_size), device=str(device))"
   ]
  }
 ],
 "metadata": {
  "kernelspec": {
   "display_name": "Python 3 (ipykernel)",
   "language": "python",
   "name": "python3"
  },
  "language_info": {
   "codemirror_mode": {
    "name": "ipython",
    "version": 3
   },
   "file_extension": ".py",
   "mimetype": "text/x-python",
   "name": "python",
   "nbconvert_exporter": "python",
   "pygments_lexer": "ipython3",
   "version": "3.11.5"
  }
 },
 "nbformat": 4,
 "nbformat_minor": 5
}
